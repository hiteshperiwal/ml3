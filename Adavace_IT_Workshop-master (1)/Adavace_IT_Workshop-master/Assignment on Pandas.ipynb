{
 "cells": [
  {
   "cell_type": "code",
   "execution_count": 13,
   "metadata": {},
   "outputs": [],
   "source": [
    "import pandas as pd"
   ]
  },
  {
   "cell_type": "markdown",
   "metadata": {},
   "source": [
    "1. Create 3 indexes with name, roll number, fees amount in a vector and print the data frame by taking values in indexes."
   ]
  },
  {
   "cell_type": "code",
   "execution_count": 14,
   "metadata": {},
   "outputs": [
    {
     "name": "stdout",
     "output_type": "stream",
     "text": [
      "    Name  Roll_No.   Fees\n",
      "0  Arjun        10  42000\n",
      "1  Karan        11  42000\n",
      "2    Ram        12  42000\n"
     ]
    }
   ],
   "source": [
    "df={'Name':[\"Arjun\",\"Karan\",\"Ram\"],'Roll_No.':[10,11,12],'Fees':[42000,42000,42000]}\n",
    "df1=pd.DataFrame(df)\n",
    "print(df1)"
   ]
  },
  {
   "cell_type": "markdown",
   "metadata": {},
   "source": [
    "2. Read mba.csv file and just fetch the name and fees and print it with the help of data frame."
   ]
  },
  {
   "cell_type": "code",
   "execution_count": 15,
   "metadata": {},
   "outputs": [
    {
     "name": "stdout",
     "output_type": "stream",
     "text": [
      "                 Name   Fees\n",
      "0        Atreyee Kar   42000\n",
      "1     Anindita Kundu   42000\n",
      "2      Sourav Chandra  41500\n",
      "3  Sayan Bhattacharya  41500\n",
      "4       Mainak Mandal  41000\n",
      "5           Soham Dey  41000\n"
     ]
    }
   ],
   "source": [
    "df=pd.read_csv(\"mba.csv\")\n",
    "print(df)"
   ]
  },
  {
   "cell_type": "markdown",
   "metadata": {},
   "source": [
    "3. Fetch your answer for question 2 with the help of Pandas Series."
   ]
  },
  {
   "cell_type": "code",
   "execution_count": 17,
   "metadata": {},
   "outputs": [
    {
     "data": {
      "text/plain": [
       "Name    {0: 'Atreyee Kar ', 1: 'Anindita Kundu ', 2: '...\n",
       "Fees    {0: 42000, 1: 42000, 2: 41500, 3: 41500, 4: 41...\n",
       "dtype: object"
      ]
     },
     "execution_count": 17,
     "metadata": {},
     "output_type": "execute_result"
    }
   ],
   "source": [
    "df1=df.to_dict()\n",
    "pd.Series(df1,index=['Name','Fees'])"
   ]
  },
  {
   "cell_type": "markdown",
   "metadata": {},
   "source": [
    "4. Copy the datas from csv file dirtydata.csv and replace all the null calories value to 120 and\n",
    "also try to change the null date format to a valid date."
   ]
  },
  {
   "cell_type": "code",
   "execution_count": 19,
   "metadata": {},
   "outputs": [
    {
     "name": "stdout",
     "output_type": "stream",
     "text": [
      "    Duration       Date  Pulse  Maxpulse  Calories\n",
      "0         60 2020-12-01    110       130     409.1\n",
      "1         60 2020-12-02    117       145     479.0\n",
      "2         60 2020-12-03    103       135     340.0\n",
      "3         45 2020-12-04    109       175     282.4\n",
      "4         45 2020-12-05    117       148     406.0\n",
      "5         60 2020-12-06    102       127     300.0\n",
      "6         60 2020-12-07    110       136     374.0\n",
      "7        450 2020-12-08    104       134     253.3\n",
      "8         30 2020-12-09    109       133     195.1\n",
      "9         60 2020-12-10     98       124     269.0\n",
      "10        60 2020-12-11    103       147     329.3\n",
      "11        60 2020-12-12    100       120     250.7\n",
      "12        60 2020-12-12    100       120     250.7\n",
      "13        60 2020-12-13    106       128     345.3\n",
      "14        60 2020-12-14    104       132     379.3\n",
      "15        60 2020-12-15     98       123     275.0\n",
      "16        60 2020-12-16     98       120     215.2\n",
      "17        60 2020-12-17    100       120     300.0\n",
      "18        45 2020-12-18     90       112     120.0\n",
      "19        60 2020-12-19    103       123     323.0\n",
      "20        45 2020-12-20     97       125     243.0\n",
      "21        60 2020-12-21    108       131     364.2\n",
      "22        45        NaT    100       119     282.0\n",
      "23        60 2020-12-23    130       101     300.0\n",
      "24        45 2020-12-24    105       132     246.0\n",
      "25        60 2020-12-25    102       126     334.5\n",
      "26        60 2020-12-26    100       120     250.0\n",
      "27        60 2020-12-27     92       118     241.0\n",
      "28        60 2020-12-28    103       132     120.0\n",
      "29        60 2020-12-29    100       132     280.0\n",
      "30        60 2020-12-30    102       129     380.3\n",
      "31        60 2020-12-31     92       115     243.0\n"
     ]
    }
   ],
   "source": [
    "df=pd.read_csv(\"dirtydata.csv\")\n",
    "df1=df.copy()\n",
    "df1['Calories'].fillna(120,inplace=True)\n",
    "df1['Date']=pd.to_datetime(df1['Date'])\n",
    "print(df1)"
   ]
  },
  {
   "cell_type": "markdown",
   "metadata": {},
   "source": [
    "5. Take a data frame df2 and replace all Nan rows with the mode value for the column calories. Data set is dirtydata."
   ]
  },
  {
   "cell_type": "code",
   "execution_count": 20,
   "metadata": {},
   "outputs": [
    {
     "name": "stdout",
     "output_type": "stream",
     "text": [
      "    Duration         Date  Pulse  Maxpulse  Calories\n",
      "0         60  2020/12/01'    110       130     409.1\n",
      "1         60  2020/12/02'    117       145     479.0\n",
      "2         60  2020/12/03'    103       135     340.0\n",
      "3         45  2020/12/04'    109       175     282.4\n",
      "4         45  2020/12/05'    117       148     406.0\n",
      "5         60  2020/12/06'    102       127     300.0\n",
      "6         60  2020/12/07'    110       136     374.0\n",
      "7        450  2020/12/08'    104       134     253.3\n",
      "8         30  2020/12/09'    109       133     195.1\n",
      "9         60  2020/12/10'     98       124     269.0\n",
      "10        60  2020/12/11'    103       147     329.3\n",
      "11        60  2020/12/12'    100       120     250.7\n",
      "12        60  2020/12/12'    100       120     250.7\n",
      "13        60  2020/12/13'    106       128     345.3\n",
      "14        60  2020/12/14'    104       132     379.3\n",
      "15        60  2020/12/15'     98       123     275.0\n",
      "16        60  2020/12/16'     98       120     215.2\n",
      "17        60  2020/12/17'    100       120     300.0\n",
      "18        45  2020/12/18'     90       112     300.0\n",
      "19        60  2020/12/19'    103       123     323.0\n",
      "20        45  2020/12/20'     97       125     243.0\n",
      "21        60  2020/12/21'    108       131     364.2\n",
      "22        45          NaN    100       119     282.0\n",
      "23        60  2020/12/23'    130       101     300.0\n",
      "24        45  2020/12/24'    105       132     246.0\n",
      "25        60  2020/12/25'    102       126     334.5\n",
      "26        60     20201226    100       120     250.0\n",
      "27        60  2020/12/27'     92       118     241.0\n",
      "28        60  2020/12/28'    103       132     300.0\n",
      "29        60  2020/12/29'    100       132     280.0\n",
      "30        60  2020/12/30'    102       129     380.3\n",
      "31        60  2020/12/31'     92       115     243.0\n"
     ]
    }
   ],
   "source": [
    "df=pd.read_csv(\"dirtydata.csv\")\n",
    "df2=df.copy()\n",
    "df2['Calories'].fillna(df2['Calories'].mode()[0],inplace=True)\n",
    "print(df2)"
   ]
  },
  {
   "cell_type": "markdown",
   "metadata": {},
   "source": [
    "6. Take df2 and for all the index values for the column calories if it is > 250 replace the calorie value with 250."
   ]
  },
  {
   "cell_type": "code",
   "execution_count": 21,
   "metadata": {},
   "outputs": [
    {
     "name": "stdout",
     "output_type": "stream",
     "text": [
      "    Duration         Date  Pulse  Maxpulse  Calories\n",
      "0         60  2020/12/01'    110       130     250.0\n",
      "1         60  2020/12/02'    117       145     250.0\n",
      "2         60  2020/12/03'    103       135     250.0\n",
      "3         45  2020/12/04'    109       175     250.0\n",
      "4         45  2020/12/05'    117       148     250.0\n",
      "5         60  2020/12/06'    102       127     250.0\n",
      "6         60  2020/12/07'    110       136     250.0\n",
      "7        450  2020/12/08'    104       134     250.0\n",
      "8         30  2020/12/09'    109       133     195.1\n",
      "9         60  2020/12/10'     98       124     250.0\n",
      "10        60  2020/12/11'    103       147     250.0\n",
      "11        60  2020/12/12'    100       120     250.0\n",
      "12        60  2020/12/12'    100       120     250.0\n",
      "13        60  2020/12/13'    106       128     250.0\n",
      "14        60  2020/12/14'    104       132     250.0\n",
      "15        60  2020/12/15'     98       123     250.0\n",
      "16        60  2020/12/16'     98       120     215.2\n",
      "17        60  2020/12/17'    100       120     250.0\n",
      "18        45  2020/12/18'     90       112     250.0\n",
      "19        60  2020/12/19'    103       123     250.0\n",
      "20        45  2020/12/20'     97       125     243.0\n",
      "21        60  2020/12/21'    108       131     250.0\n",
      "22        45          NaN    100       119     250.0\n",
      "23        60  2020/12/23'    130       101     250.0\n",
      "24        45  2020/12/24'    105       132     246.0\n",
      "25        60  2020/12/25'    102       126     250.0\n",
      "26        60     20201226    100       120     250.0\n",
      "27        60  2020/12/27'     92       118     241.0\n",
      "28        60  2020/12/28'    103       132     250.0\n",
      "29        60  2020/12/29'    100       132     250.0\n",
      "30        60  2020/12/30'    102       129     250.0\n",
      "31        60  2020/12/31'     92       115     243.0\n"
     ]
    }
   ],
   "source": [
    "for i in df2.index:\n",
    "    if df2.loc[i,'Calories']>250:\n",
    "        df2.loc[i,'Calories']=250\n",
    "print(df2)"
   ]
  }
 ],
 "metadata": {
  "kernelspec": {
   "display_name": "Python 3",
   "language": "python",
   "name": "python3"
  },
  "language_info": {
   "codemirror_mode": {
    "name": "ipython",
    "version": 3
   },
   "file_extension": ".py",
   "mimetype": "text/x-python",
   "name": "python",
   "nbconvert_exporter": "python",
   "pygments_lexer": "ipython3",
   "version": "3.6.5"
  }
 },
 "nbformat": 4,
 "nbformat_minor": 2
}
