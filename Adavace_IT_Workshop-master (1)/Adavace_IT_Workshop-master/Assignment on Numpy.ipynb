{
 "cells": [
  {
   "cell_type": "code",
   "execution_count": null,
   "metadata": {},
   "outputs": [],
   "source": [
    "import numpy as np"
   ]
  },
  {
   "cell_type": "markdown",
   "metadata": {},
   "source": [
    "1. Take a 3X3 matrix randomly and another matrix by assigning elements. Now add the 2 matrix and store it in a separate matrix C."
   ]
  },
  {
   "cell_type": "code",
   "execution_count": 1,
   "metadata": {},
   "outputs": [
    {
     "name": "stdout",
     "output_type": "stream",
     "text": [
      "A=  [[7 2 1]\n",
      " [8 2 2]\n",
      " [8 4 9]]\n",
      "B=  [[1, 2, 3], [4, 5, 6], [7, 8, 9]]\n"
     ]
    },
    {
     "data": {
      "text/plain": [
       "array([[ 8,  4,  4],\n",
       "       [12,  7,  8],\n",
       "       [15, 12, 18]])"
      ]
     },
     "execution_count": 1,
     "metadata": {},
     "output_type": "execute_result"
    }
   ],
   "source": [
    "A=np.random.randint(0,10,(3,3))\n",
    "print('A= ',A)\n",
    "B=[[1,2,3],[4,5,6],[7,8,9]]\n",
    "print('B= ',B)\n",
    "C=A+B\n",
    "C"
   ]
  },
  {
   "cell_type": "markdown",
   "metadata": {},
   "source": [
    "2. Take 3X3 matrixes add it with another 3x3 of all 1 matrix and convert that to a complex data type matrix."
   ]
  },
  {
   "cell_type": "code",
   "execution_count": 2,
   "metadata": {},
   "outputs": [
    {
     "name": "stdout",
     "output_type": "stream",
     "text": [
      "A=  [[2 8 8]\n",
      " [8 7 8]\n",
      " [7 2 1]]\n",
      "B=  [[1, 2, 3], [4, 5, 6], [7, 8, 9]]\n"
     ]
    },
    {
     "data": {
      "text/plain": [
       "array([[ 3.+0.j, 10.+0.j, 11.+0.j],\n",
       "       [12.+0.j, 12.+0.j, 14.+0.j],\n",
       "       [14.+0.j, 10.+0.j, 10.+0.j]])"
      ]
     },
     "execution_count": 2,
     "metadata": {},
     "output_type": "execute_result"
    }
   ],
   "source": [
    "A=np.random.randint(0,10,(3,3))\n",
    "print('A= ',A)\n",
    "B=[[1,2,3],[4,5,6],[7,8,9]]\n",
    "print('B= ',B)\n",
    "C=A+B\n",
    "C=np.array(C,dtype=complex)\n",
    "C"
   ]
  },
  {
   "cell_type": "markdown",
   "metadata": {},
   "source": [
    "3. Take a 3X3 matrix and multiply element wise with 3X 3 another matrix."
   ]
  },
  {
   "cell_type": "code",
   "execution_count": 3,
   "metadata": {},
   "outputs": [
    {
     "name": "stdout",
     "output_type": "stream",
     "text": [
      "A=  [[8 8 4]\n",
      " [2 4 9]\n",
      " [3 4 0]]\n",
      "B=  [[1, 2, 3], [4, 5, 6], [7, 8, 9]]\n"
     ]
    },
    {
     "data": {
      "text/plain": [
       "array([[ 8, 16, 12],\n",
       "       [ 8, 20, 54],\n",
       "       [21, 32,  0]])"
      ]
     },
     "execution_count": 3,
     "metadata": {},
     "output_type": "execute_result"
    }
   ],
   "source": [
    "A=np.random.randint(0,10,(3,3))\n",
    "print('A= ',A)\n",
    "B=[[1,2,3],[4,5,6],[7,8,9]]\n",
    "print('B= ',B)\n",
    "C=A*B\n",
    "C"
   ]
  },
  {
   "cell_type": "markdown",
   "metadata": {},
   "source": [
    "4. Multiply 2 3X3 matrixes."
   ]
  },
  {
   "cell_type": "code",
   "execution_count": 31,
   "metadata": {},
   "outputs": [
    {
     "name": "stdout",
     "output_type": "stream",
     "text": [
      "A=  [[1. 0. 0.]\n",
      " [0. 1. 0.]\n",
      " [0. 0. 1.]]\n",
      "B=  [[1, 2, 3], [4, 5, 6], [7, 8, 9]]\n"
     ]
    },
    {
     "data": {
      "text/plain": [
       "array([[1., 2., 3.],\n",
       "       [4., 5., 6.],\n",
       "       [7., 8., 9.]])"
      ]
     },
     "execution_count": 31,
     "metadata": {},
     "output_type": "execute_result"
    }
   ],
   "source": [
    "A=np.eye(3)\n",
    "print('A= ',A)\n",
    "B=[[1,2,3],[4,5,6],[7,8,9]]\n",
    "print('B= ',B)\n",
    "C=A.dot(B)\n",
    "C"
   ]
  },
  {
   "cell_type": "markdown",
   "metadata": {},
   "source": [
    "5. Randomly generate 10 numbers in between 1 to 10 and convert that to a 5X2 matrix. Take a floating-point matrix and perform the addition. a= floating point matrix and b is an integer matrix of same dimension. Why a+=b is not equal to b+=a. Explain briefly. How can we resolve this problem?"
   ]
  },
  {
   "cell_type": "code",
   "execution_count": 39,
   "metadata": {},
   "outputs": [
    {
     "name": "stdout",
     "output_type": "stream",
     "text": [
      "a=  [[8 2]\n",
      " [5 7]\n",
      " [8 5]\n",
      " [1 9]\n",
      " [3 3]]\n",
      "b=  [[9. 9.]\n",
      " [2. 9.]\n",
      " [7. 5.]\n",
      " [6. 1.]\n",
      " [7. 1.]]\n"
     ]
    },
    {
     "data": {
      "text/plain": [
       "array([[17., 11.],\n",
       "       [ 7., 16.],\n",
       "       [15., 10.],\n",
       "       [ 7., 10.],\n",
       "       [10.,  4.]])"
      ]
     },
     "execution_count": 39,
     "metadata": {},
     "output_type": "execute_result"
    }
   ],
   "source": [
    "a=np.random.randint(1,10,(5,2))\n",
    "print('a= ',a)\n",
    "b=np.random.randint(1,10,(5,2))\n",
    "b=np.array(b,dtype=float)\n",
    "print('b= ',b)\n",
    "b+=a\n",
    "b\n",
    "#a+=b is not equals to b+=a because the type of a and b is not same. If we write a+=b instead of b+=a,it will show an error. \n",
    "#Error: TypeError: Cannot cast ufunc add output from dtype('float64') to dtype('int32') with casting rule 'same_kind'"
   ]
  },
  {
   "cell_type": "markdown",
   "metadata": {},
   "source": [
    "6. Take x values and plot the cos(x) and tan(x) in a graph using matplotlib."
   ]
  },
  {
   "cell_type": "code",
   "execution_count": 7,
   "metadata": {},
   "outputs": [
    {
     "data": {
      "image/png": "[encoded data removed]",
      "text/plain": [
       "<Figure size 432x288 with 1 Axes>"
      ]
     },
     "metadata": {},
     "output_type": "display_data"
    },
    {
     "data": {
      "image/png": "[encoded data removed]",
      "text/plain": [
       "<Figure size 432x288 with 1 Axes>"
      ]
     },
     "metadata": {},
     "output_type": "display_data"
    }
   ],
   "source": [
    "import matplotlib.pyplot as plt\n",
    "x=np.linspace(-1,1,100)\n",
    "y=np.cos(x)\n",
    "plt.plot(x,y)\n",
    "plt.title(\"cos x GRAPH\")\n",
    "plt.show()\n",
    "z=np.tan(x)\n",
    "plt.plot(x,z)\n",
    "plt.title(\"tan x GRAPH\")\n",
    "plt.show()"
   ]
  },
  {
   "cell_type": "markdown",
   "metadata": {},
   "source": [
    "7. Take a multidimensional array (3, 3, 3) and print the last column."
   ]
  },
  {
   "cell_type": "code",
   "execution_count": 49,
   "metadata": {},
   "outputs": [
    {
     "name": "stdout",
     "output_type": "stream",
     "text": [
      "\n",
      "Last Column:  [[4 6 1]\n",
      " [4 3 5]\n",
      " [4 7 3]]\n"
     ]
    }
   ],
   "source": [
    "a=np.random.randint(1,10,(3,3,3))\n",
    "print(\"\\nLast Column: \",a[-1])"
   ]
  },
  {
   "cell_type": "markdown",
   "metadata": {},
   "source": [
    "8. Take a function f(x) =x^3 + 5*y +4*z and determine the values and store them in a (3,3,3) matrix."
   ]
  },
  {
   "cell_type": "code",
   "execution_count": 10,
   "metadata": {},
   "outputs": [
    {
     "data": {
      "text/plain": [
       "array([[[ 0,  4,  8],\n",
       "        [ 5,  9, 13],\n",
       "        [10, 14, 18]],\n",
       "\n",
       "       [[ 1,  5,  9],\n",
       "        [ 6, 10, 14],\n",
       "        [11, 15, 19]],\n",
       "\n",
       "       [[ 8, 12, 16],\n",
       "        [13, 17, 21],\n",
       "        [18, 22, 26]]])"
      ]
     },
     "execution_count": 10,
     "metadata": {},
     "output_type": "execute_result"
    }
   ],
   "source": [
    "def fx(x,y,z):\n",
    "    return ((x**3)+(5*y)+(4*z))\n",
    "np.fromfunction(fx,(3,3,3),dtype=int)"
   ]
  },
  {
   "cell_type": "markdown",
   "metadata": {},
   "source": [
    "9. Using axis add the column values of a 3X3 matrix and then add it with the maximum values of rows taken in a 3X 3 matrix."
   ]
  },
  {
   "cell_type": "code",
   "execution_count": 55,
   "metadata": {},
   "outputs": [
    {
     "name": "stdout",
     "output_type": "stream",
     "text": [
      "The Matrix: \n",
      " [[0 1 2]\n",
      " [3 4 5]\n",
      " [6 7 8]]\n",
      "The Max val of rows:  [2 5 8]\n",
      "The Sum:  [11 17 23]\n"
     ]
    }
   ],
   "source": [
    "a=np.arange(9).reshape(3,3)\n",
    "print(\"The Matrix: \\n\",a)\n",
    "sum_col=a.sum(axis=0)\n",
    "max_row=a.max(axis=1)\n",
    "print(\"The Max val of rows: \",max_row)\n",
    "print(\"The Sum: \",np.add(sum_col,max_row))"
   ]
  },
  {
   "cell_type": "markdown",
   "metadata": {},
   "source": [
    "10. f(x) = x^3 + 5y and store it in (3,3) matrix."
   ]
  },
  {
   "cell_type": "code",
   "execution_count": 16,
   "metadata": {},
   "outputs": [
    {
     "data": {
      "text/plain": [
       "array([[ 0,  5, 10],\n",
       "       [ 1,  6, 11],\n",
       "       [ 8, 13, 18]])"
      ]
     },
     "execution_count": 16,
     "metadata": {},
     "output_type": "execute_result"
    }
   ],
   "source": [
    "def fx(x,y):\n",
    "    return ((x**3)+(5*y))\n",
    "np.fromfunction(fx,(3,3),dtype=int)"
   ]
  },
  {
   "cell_type": "markdown",
   "metadata": {},
   "source": [
    "11. Take a function array 'a' cube with a range of 20 and find out what will be the value of a [[7,8], [9,11]]. If we take values a [[7, 8], [9, 21]] will it take if not why?"
   ]
  },
  {
   "cell_type": "code",
   "execution_count": 20,
   "metadata": {},
   "outputs": [
    {
     "name": "stdout",
     "output_type": "stream",
     "text": [
      "[[ 343  512]\n",
      " [ 729 1331]]\n"
     ]
    }
   ],
   "source": [
    "a=np.arange(20)**3\n",
    "temp=np.array([[7,8],[9,11]])\n",
    "print(a[temp])\n",
    "#If we take values a([[7,8],[9,21]]), it will show error.\n",
    "#Error: IndexError: index 21 is out of bounds for axis 0 with size 20"
   ]
  },
  {
   "cell_type": "markdown",
   "metadata": {},
   "source": [
    "12. Take a random number from 0 to 19 and make a 4X5 matrix then find the values of (i) 3rd row and 4th column only and (ii) only 4th column values."
   ]
  },
  {
   "cell_type": "code",
   "execution_count": 25,
   "metadata": {},
   "outputs": [
    {
     "name": "stdout",
     "output_type": "stream",
     "text": [
      "[[ 5  9  3  3  1]\n",
      " [16 17  9 13 10]\n",
      " [ 3  7  2  7 11]\n",
      " [ 0 13 13 18 12]]\n",
      "3rd row and 4th column:  11\n",
      "4th column:  [ 1 10 11 12]\n"
     ]
    }
   ],
   "source": [
    "a=np.random.randint(0,19,(4,5))\n",
    "print(a)\n",
    "print(\"3rd row and 4th column: \",a[-2,-1])\n",
    "print(\"4th column: \",a[...,4])"
   ]
  },
  {
   "cell_type": "markdown",
   "metadata": {},
   "source": [
    "13. Take a matrix of 5X4 randomly and create 2 3x3 values i and j respectively and take a tuple named m with i and j as an argument and generate the values of the matrix for the specified tuple. i<=4 and j<=3."
   ]
  },
  {
   "cell_type": "code",
   "execution_count": 56,
   "metadata": {},
   "outputs": [
    {
     "name": "stdout",
     "output_type": "stream",
     "text": [
      "[[ 9  2  4]\n",
      " [ 4 10  1]\n",
      " [ 1  4 10]]\n"
     ]
    }
   ],
   "source": [
    "i=np.array([[2,0,1],[1,2,0],[0,1,2]])\n",
    "j=np.array([[1,2,0],[0,2,1],[1,0,2]])\n",
    "a=np.arange(20).reshape(5,4)\n",
    "m=(i,j)\n",
    "print(a[m])"
   ]
  },
  {
   "cell_type": "markdown",
   "metadata": {},
   "source": [
    "14. Take a matrix of 3x3 and find out the Eigen vector and Eigen values of that matrix."
   ]
  },
  {
   "cell_type": "code",
   "execution_count": 58,
   "metadata": {},
   "outputs": [
    {
     "name": "stdout",
     "output_type": "stream",
     "text": [
      "Eigen vector:\n",
      " [10.79893228  4.13175419 -4.93068646]\n",
      "Eigen values:\n",
      " [[-0.32346619 -0.55923972 -0.13150301]\n",
      " [-0.54126402  0.6437007  -0.68276219]\n",
      " [-0.77614618  0.52239864  0.71870908]]\n"
     ]
    }
   ],
   "source": [
    "r=np.random.randint(0,9,9).reshape(3,3)\n",
    "w,v=np.linalg.eig(r)\n",
    "print(\"Eigen vector:\\n\",w)\n",
    "print(\"Eigen values:\\n\",v)"
   ]
  },
  {
   "cell_type": "markdown",
   "metadata": {},
   "source": [
    "15. Take a matrix and by taking the i, j or x, y values implement the hstack and vstack methods."
   ]
  },
  {
   "cell_type": "code",
   "execution_count": 30,
   "metadata": {},
   "outputs": [
    {
     "name": "stdout",
     "output_type": "stream",
     "text": [
      "Using vstack():\n",
      " [[0 2 4 6 8]\n",
      " [0 1 2 3 4]]\n",
      "Using hstack():\n",
      " [0 2 4 6 8 0 1 2 3 4]\n"
     ]
    }
   ],
   "source": [
    "x=np.arange(0,10,2)\n",
    "y=np.arange(5)\n",
    "print(\"Using vstack():\\n\",np.vstack([x,y]))\n",
    "print(\"Using hstack():\\n\",np.hstack([x,y]))"
   ]
  }
 ],
 "metadata": {
  "kernelspec": {
   "display_name": "Python 3",
   "language": "python",
   "name": "python3"
  },
  "language_info": {
   "codemirror_mode": {
    "name": "ipython",
    "version": 3
   },
   "file_extension": ".py",
   "mimetype": "text/x-python",
   "name": "python",
   "nbconvert_exporter": "python",
   "pygments_lexer": "ipython3",
   "version": "3.6.5"
  }
 },
 "nbformat": 4,
 "nbformat_minor": 2
}
